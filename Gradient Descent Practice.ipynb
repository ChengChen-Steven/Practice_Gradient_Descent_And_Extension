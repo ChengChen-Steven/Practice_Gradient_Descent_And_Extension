{
 "cells": [
  {
   "cell_type": "markdown",
   "metadata": {},
   "source": [
    "# Gradient Descent Practice"
   ]
  },
  {
   "cell_type": "markdown",
   "metadata": {},
   "source": [
    "In this repository, you are expecting to see the following analyses from scratch:\n",
    "\n",
    "* Model 1: use a stat package in python & regularization <br/>\n",
    "* Model 2: write gradient descent from scratch  <br/>\n",
    "* Model 3: add regularization in model 2 (later)  <br/>\n",
    "* Model 4: stochastic gradient descent (later)  <br/>\n",
    "* Model 5: mini-batch gradient descent (later)  <br/>"
   ]
  },
  {
   "cell_type": "markdown",
   "metadata": {},
   "source": [
    "### 1. Select the dataset: iris"
   ]
  },
  {
   "cell_type": "code",
   "execution_count": 80,
   "metadata": {},
   "outputs": [],
   "source": [
    "# import packages\n",
    "import random\n",
    "import math\n",
    "import pandas as pd\n",
    "import numpy as np\n",
    "from sklearn import datasets"
   ]
  },
  {
   "cell_type": "code",
   "execution_count": 81,
   "metadata": {},
   "outputs": [
    {
     "data": {
      "text/html": [
       "<div>\n",
       "<style scoped>\n",
       "    .dataframe tbody tr th:only-of-type {\n",
       "        vertical-align: middle;\n",
       "    }\n",
       "\n",
       "    .dataframe tbody tr th {\n",
       "        vertical-align: top;\n",
       "    }\n",
       "\n",
       "    .dataframe thead th {\n",
       "        text-align: right;\n",
       "    }\n",
       "</style>\n",
       "<table border=\"1\" class=\"dataframe\">\n",
       "  <thead>\n",
       "    <tr style=\"text-align: right;\">\n",
       "      <th></th>\n",
       "      <th>sepal length</th>\n",
       "      <th>sepal width</th>\n",
       "      <th>petal length</th>\n",
       "      <th>petal width</th>\n",
       "      <th>target</th>\n",
       "    </tr>\n",
       "  </thead>\n",
       "  <tbody>\n",
       "    <tr>\n",
       "      <th>0</th>\n",
       "      <td>5.1</td>\n",
       "      <td>3.5</td>\n",
       "      <td>1.4</td>\n",
       "      <td>0.2</td>\n",
       "      <td>1</td>\n",
       "    </tr>\n",
       "    <tr>\n",
       "      <th>1</th>\n",
       "      <td>4.9</td>\n",
       "      <td>3.0</td>\n",
       "      <td>1.4</td>\n",
       "      <td>0.2</td>\n",
       "      <td>1</td>\n",
       "    </tr>\n",
       "    <tr>\n",
       "      <th>2</th>\n",
       "      <td>4.7</td>\n",
       "      <td>3.2</td>\n",
       "      <td>1.3</td>\n",
       "      <td>0.2</td>\n",
       "      <td>1</td>\n",
       "    </tr>\n",
       "  </tbody>\n",
       "</table>\n",
       "</div>"
      ],
      "text/plain": [
       "   sepal length  sepal width  petal length  petal width  target\n",
       "0           5.1          3.5           1.4          0.2       1\n",
       "1           4.9          3.0           1.4          0.2       1\n",
       "2           4.7          3.2           1.3          0.2       1"
      ]
     },
     "execution_count": 81,
     "metadata": {},
     "output_type": "execute_result"
    }
   ],
   "source": [
    "# read in the sample dataset from sklearn\n",
    "iris = datasets.load_iris()\n",
    "dat = pd.DataFrame(data= np.c_[iris['data'], iris['target']],\n",
    "                     columns= iris['feature_names'] + ['target'])\n",
    "# for simplicity, we only examine binary classification:\n",
    "# map to whether not 1\n",
    "value_map = {0. : 1, \n",
    "             1. : 0, \n",
    "             2. : 1} \n",
    "# replace the value in target & change column names\n",
    "dat['target'] = dat['target'].map(value_map)\n",
    "dat.columns = [var.replace(' (cm)', '') for var in dat.columns if '(cm)' in var] + ['target']\n",
    "dat.head(3)"
   ]
  },
  {
   "cell_type": "markdown",
   "metadata": {},
   "source": [
    "### Model 1: Use statistical packages"
   ]
  },
  {
   "cell_type": "code",
   "execution_count": 3,
   "metadata": {},
   "outputs": [
    {
     "name": "stdout",
     "output_type": "stream",
     "text": [
      "Optimization terminated successfully.\n",
      "         Current function value: 0.485883\n",
      "         Iterations 6\n"
     ]
    },
    {
     "data": {
      "text/html": [
       "<table class=\"simpletable\">\n",
       "<caption>Logit Regression Results</caption>\n",
       "<tr>\n",
       "  <th>Dep. Variable:</th>      <td>target</td>      <th>  No. Observations:  </th>  <td>   150</td>  \n",
       "</tr>\n",
       "<tr>\n",
       "  <th>Model:</th>               <td>Logit</td>      <th>  Df Residuals:      </th>  <td>   145</td>  \n",
       "</tr>\n",
       "<tr>\n",
       "  <th>Method:</th>               <td>MLE</td>       <th>  Df Model:          </th>  <td>     4</td>  \n",
       "</tr>\n",
       "<tr>\n",
       "  <th>Date:</th>          <td>Sun, 01 Jul 2018</td> <th>  Pseudo R-squ.:     </th>  <td>0.2367</td>  \n",
       "</tr>\n",
       "<tr>\n",
       "  <th>Time:</th>              <td>16:09:28</td>     <th>  Log-Likelihood:    </th> <td> -72.882</td> \n",
       "</tr>\n",
       "<tr>\n",
       "  <th>converged:</th>           <td>True</td>       <th>  LL-Null:           </th> <td> -95.477</td> \n",
       "</tr>\n",
       "<tr>\n",
       "  <th> </th>                      <td> </td>        <th>  LLR p-value:       </th> <td>3.631e-09</td>\n",
       "</tr>\n",
       "</table>\n",
       "<table class=\"simpletable\">\n",
       "<tr>\n",
       "        <td></td>          <th>coef</th>     <th>std err</th>      <th>z</th>      <th>P>|z|</th>  <th>[0.025</th>    <th>0.975]</th>  \n",
       "</tr>\n",
       "<tr>\n",
       "  <th>sepal length</th> <td>    0.2527</td> <td>    0.649</td> <td>    0.389</td> <td> 0.697</td> <td>   -1.020</td> <td>    1.526</td>\n",
       "</tr>\n",
       "<tr>\n",
       "  <th>sepal width</th>  <td>    2.7794</td> <td>    0.786</td> <td>    3.537</td> <td> 0.000</td> <td>    1.239</td> <td>    4.320</td>\n",
       "</tr>\n",
       "<tr>\n",
       "  <th>petal length</th> <td>   -1.2993</td> <td>    0.682</td> <td>   -1.904</td> <td> 0.057</td> <td>   -2.637</td> <td>    0.038</td>\n",
       "</tr>\n",
       "<tr>\n",
       "  <th>petal width</th>  <td>    2.7043</td> <td>    1.163</td> <td>    2.326</td> <td> 0.020</td> <td>    0.426</td> <td>    4.983</td>\n",
       "</tr>\n",
       "<tr>\n",
       "  <th>intercept</th>    <td>   -7.3229</td> <td>    2.498</td> <td>   -2.932</td> <td> 0.003</td> <td>  -12.219</td> <td>   -2.427</td>\n",
       "</tr>\n",
       "</table>"
      ],
      "text/plain": [
       "<class 'statsmodels.iolib.summary.Summary'>\n",
       "\"\"\"\n",
       "                           Logit Regression Results                           \n",
       "==============================================================================\n",
       "Dep. Variable:                 target   No. Observations:                  150\n",
       "Model:                          Logit   Df Residuals:                      145\n",
       "Method:                           MLE   Df Model:                            4\n",
       "Date:                Sun, 01 Jul 2018   Pseudo R-squ.:                  0.2367\n",
       "Time:                        16:09:28   Log-Likelihood:                -72.882\n",
       "converged:                       True   LL-Null:                       -95.477\n",
       "                                        LLR p-value:                 3.631e-09\n",
       "================================================================================\n",
       "                   coef    std err          z      P>|z|      [0.025      0.975]\n",
       "--------------------------------------------------------------------------------\n",
       "sepal length     0.2527      0.649      0.389      0.697      -1.020       1.526\n",
       "sepal width      2.7794      0.786      3.537      0.000       1.239       4.320\n",
       "petal length    -1.2993      0.682     -1.904      0.057      -2.637       0.038\n",
       "petal width      2.7043      1.163      2.326      0.020       0.426       4.983\n",
       "intercept       -7.3229      2.498     -2.932      0.003     -12.219      -2.427\n",
       "================================================================================\n",
       "\"\"\""
      ]
     },
     "execution_count": 3,
     "metadata": {},
     "output_type": "execute_result"
    }
   ],
   "source": [
    "# Package 1: statsmodels.api\n",
    "import statsmodels.api as sm\n",
    "dat1 = dat.copy()\n",
    "dat1['intercept'] = 1 # Note, if we don't have the intercept, statsmodels will by default has not intercept\n",
    "model = sm.Logit(dat1['target'], dat1.loc[:,dat1.columns!='target'])\n",
    "result = model.fit()\n",
    "result.summary()"
   ]
  },
  {
   "cell_type": "code",
   "execution_count": 4,
   "metadata": {},
   "outputs": [
    {
     "name": "stdout",
     "output_type": "stream",
     "text": [
      "intercept:  [-7.32023848]\n"
     ]
    },
    {
     "data": {
      "text/plain": [
       "{'sepal length': 0.25233130342654525,\n",
       " 'sepal width': 2.779020300705264,\n",
       " 'petal length': -1.298869859155948,\n",
       " 'petal width': 2.7035482616441704}"
      ]
     },
     "execution_count": 4,
     "metadata": {},
     "output_type": "execute_result"
    }
   ],
   "source": [
    "# Package 2: sklearn\n",
    "from sklearn.linear_model import LogisticRegression\n",
    "dat2 = dat.copy()\n",
    "lr = LogisticRegression(random_state=0, C=1e5) # lower C means higher penalty, use convention in SVM\n",
    "lr.fit(dat2.loc[:,dat2.columns!='target'], dat2['target'])\n",
    "print('intercept: ', lr.intercept_)\n",
    "dict(zip(dat2.columns[dat2.columns!='target'], lr.coef_[0]))"
   ]
  },
  {
   "cell_type": "markdown",
   "metadata": {},
   "source": [
    "We can see the result is slightly different, probably because one requires smaller different between iterations to determine the convergence. Therefore, we believe everything is correct here. "
   ]
  },
  {
   "cell_type": "markdown",
   "metadata": {},
   "source": [
    "### Model 2: Build the logistic regression from scratch"
   ]
  },
  {
   "cell_type": "code",
   "execution_count": 5,
   "metadata": {},
   "outputs": [
    {
     "data": {
      "text/html": [
       "<div>\n",
       "<style scoped>\n",
       "    .dataframe tbody tr th:only-of-type {\n",
       "        vertical-align: middle;\n",
       "    }\n",
       "\n",
       "    .dataframe tbody tr th {\n",
       "        vertical-align: top;\n",
       "    }\n",
       "\n",
       "    .dataframe thead th {\n",
       "        text-align: right;\n",
       "    }\n",
       "</style>\n",
       "<table border=\"1\" class=\"dataframe\">\n",
       "  <thead>\n",
       "    <tr style=\"text-align: right;\">\n",
       "      <th></th>\n",
       "      <th>sepal length</th>\n",
       "      <th>sepal width</th>\n",
       "      <th>petal length</th>\n",
       "      <th>petal width</th>\n",
       "      <th>target</th>\n",
       "    </tr>\n",
       "  </thead>\n",
       "  <tbody>\n",
       "    <tr>\n",
       "      <th>count</th>\n",
       "      <td>150.000000</td>\n",
       "      <td>150.000000</td>\n",
       "      <td>150.000000</td>\n",
       "      <td>150.000000</td>\n",
       "      <td>150.000000</td>\n",
       "    </tr>\n",
       "    <tr>\n",
       "      <th>mean</th>\n",
       "      <td>5.843333</td>\n",
       "      <td>3.054000</td>\n",
       "      <td>3.758667</td>\n",
       "      <td>1.198667</td>\n",
       "      <td>0.666667</td>\n",
       "    </tr>\n",
       "    <tr>\n",
       "      <th>std</th>\n",
       "      <td>0.828066</td>\n",
       "      <td>0.433594</td>\n",
       "      <td>1.764420</td>\n",
       "      <td>0.763161</td>\n",
       "      <td>0.472984</td>\n",
       "    </tr>\n",
       "    <tr>\n",
       "      <th>min</th>\n",
       "      <td>4.300000</td>\n",
       "      <td>2.000000</td>\n",
       "      <td>1.000000</td>\n",
       "      <td>0.100000</td>\n",
       "      <td>0.000000</td>\n",
       "    </tr>\n",
       "    <tr>\n",
       "      <th>25%</th>\n",
       "      <td>5.100000</td>\n",
       "      <td>2.800000</td>\n",
       "      <td>1.600000</td>\n",
       "      <td>0.300000</td>\n",
       "      <td>0.000000</td>\n",
       "    </tr>\n",
       "    <tr>\n",
       "      <th>50%</th>\n",
       "      <td>5.800000</td>\n",
       "      <td>3.000000</td>\n",
       "      <td>4.350000</td>\n",
       "      <td>1.300000</td>\n",
       "      <td>1.000000</td>\n",
       "    </tr>\n",
       "    <tr>\n",
       "      <th>75%</th>\n",
       "      <td>6.400000</td>\n",
       "      <td>3.300000</td>\n",
       "      <td>5.100000</td>\n",
       "      <td>1.800000</td>\n",
       "      <td>1.000000</td>\n",
       "    </tr>\n",
       "    <tr>\n",
       "      <th>max</th>\n",
       "      <td>7.900000</td>\n",
       "      <td>4.400000</td>\n",
       "      <td>6.900000</td>\n",
       "      <td>2.500000</td>\n",
       "      <td>1.000000</td>\n",
       "    </tr>\n",
       "  </tbody>\n",
       "</table>\n",
       "</div>"
      ],
      "text/plain": [
       "       sepal length  sepal width  petal length  petal width      target\n",
       "count    150.000000   150.000000    150.000000   150.000000  150.000000\n",
       "mean       5.843333     3.054000      3.758667     1.198667    0.666667\n",
       "std        0.828066     0.433594      1.764420     0.763161    0.472984\n",
       "min        4.300000     2.000000      1.000000     0.100000    0.000000\n",
       "25%        5.100000     2.800000      1.600000     0.300000    0.000000\n",
       "50%        5.800000     3.000000      4.350000     1.300000    1.000000\n",
       "75%        6.400000     3.300000      5.100000     1.800000    1.000000\n",
       "max        7.900000     4.400000      6.900000     2.500000    1.000000"
      ]
     },
     "execution_count": 5,
     "metadata": {},
     "output_type": "execute_result"
    }
   ],
   "source": [
    "# review the dataset\n",
    "dat.describe()"
   ]
  },
  {
   "cell_type": "code",
   "execution_count": 82,
   "metadata": {},
   "outputs": [],
   "source": [
    "# build sigmoid functions\n",
    "def sigmoid(x):\n",
    "    return(1/(1+math.exp(-x))) # we should raise exception for different x data type"
   ]
  },
  {
   "cell_type": "code",
   "execution_count": 83,
   "metadata": {},
   "outputs": [],
   "source": [
    "# build loss function \n",
    "def lr_loss(y=1, p=0.5):\n",
    "    if (y in [0,1]) and (0<p<1):\n",
    "        return(-y*math.log(p)-(1-y)*math.log(1-p))\n",
    "    else:\n",
    "        raise ValueError('input y or p is out of bound.')"
   ]
  },
  {
   "cell_type": "code",
   "execution_count": 84,
   "metadata": {},
   "outputs": [],
   "source": [
    "# let's train the model\n",
    "def lr_train(data = dat, fit_intercept = True, random_state = 0, alpha = 0.01, tol = 1e-4, target = 'target', varList = []):\n",
    "    # assume there is no column called 'intercept'\n",
    "    if fit_intercept:\n",
    "        dat['intercept'] = 1\n",
    "        varList.append('intercept')\n",
    "    # initiate beta based on random_state:\n",
    "    random.seed(random_state)\n",
    "    init_beta = [0]*5\n",
    "    new_beta = [0.26,  2.779, -1.2988, 2.703, -7.320]#[random.random() for i in range(len(varList))]\n",
    "    # add two columns: predicted prob \n",
    "    data['pred'] = data.apply(lambda row: sigmoid(np.dot(row[varList], init_beta)), axis = 1)\n",
    "    data['loss'] = data.apply(lambda row: lr_loss(y=row['target'], p=row['pred']), axis=1)\n",
    "    # loop through\n",
    "    while max(abs(np.array(new_beta) - np.array(init_beta)))>1e-5:\n",
    "        for i in range(len(varList)):\n",
    "            init_beta[i] = new_beta[i]\n",
    "            new_beta[i] = init_beta[i] - alpha * (1/data.shape[0]) *sum((data['pred']-data['target'])*data[varList[i]]) #(*)?\n",
    "            data['pred'] = data.apply(lambda row: sigmoid(np.dot(row[varList], new_beta)), axis = 1)\n",
    "    return(new_beta)"
   ]
  },
  {
   "cell_type": "code",
   "execution_count": 86,
   "metadata": {},
   "outputs": [
    {
     "name": "stdout",
     "output_type": "stream",
     "text": [
      "[0.2601115010607848, 2.7741458682048834, -1.305178458118098, 2.7010866692333706, -7.321589864367134]\n"
     ]
    }
   ],
   "source": [
    "print(lr_train(data=dat, varList = ['sepal length', 'sepal width', 'petal length', 'petal width']))"
   ]
  },
  {
   "cell_type": "markdown",
   "metadata": {},
   "source": [
    "There is something wrong with this chunk of code:\n",
    "    1. it could be parallel computed\n",
    "    2. the running time is really volatile -> could be something wrong with the code here (*)"
   ]
  },
  {
   "cell_type": "code",
   "execution_count": 66,
   "metadata": {},
   "outputs": [],
   "source": [
    "# we write scripts so that it makes things easier to check and then put them in the above function\n",
    "dat['intercept'] = 1\n",
    "varList = ['sepal length', 'sepal width', 'petal length', 'petal width']\n",
    "varList.append('intercept')\n",
    "random.seed(1)\n",
    "init_beta = [random.rando m() for i in range(len(varList))]"
   ]
  },
  {
   "cell_type": "code",
   "execution_count": 68,
   "metadata": {},
   "outputs": [],
   "source": [
    "# add two columns: predicted prob \n",
    "dat['pred'] = dat.apply(lambda row: sigmoid(np.dot(row[varList], init_beta)), axis = 1)\n",
    "dat['loss'] = dat.apply(lambda row: lr_loss(y=row['target'], p=row['pred']), axis=1)"
   ]
  },
  {
   "cell_type": "code",
   "execution_count": 69,
   "metadata": {},
   "outputs": [
    {
     "name": "stdout",
     "output_type": "stream",
     "text": [
      "[0.24032791257612726, 2.779335505892976, -1.2983154652456175, 2.703151200594591, -7.319890177498307]\n",
      "[0.2409881687323892, 2.7796371011489787, -1.297880947684358, 2.703286667023048, -7.319791451576524]\n",
      "[0.24158135298035813, 2.779908285291391, -1.2974913015186553, 2.7034080204102486, -7.319702680446149]\n",
      "[0.242114367531563, 2.7801521901339763, -1.297141918018386, 2.7035167122575756, -7.319622841646]\n",
      "[0.24259339330805832, 2.780371619594205, -1.2968286680724581, 2.7036140426720703, -7.319551019242445]\n",
      "[0.2430239672971272, 2.7805690849894025, -1.2965478511235158, 2.7037011765530394, -7.319486392459998]\n",
      "[0.2434110512656727, 2.7807468363622054, -1.2962961497392833, 2.703779157978459, -7.319428225573095]\n",
      "[0.24375909285528918, 2.780906890310733, -1.29607058916621, 2.7038489230028717, -7.31937585891118]\n",
      "[0.2440720799504442, 2.7810510547376155, -1.2958685012915179, 2.7039113110519004, -7.319328700847808]\n",
      "[0.2443535891006224, 2.78118095087918, -1.2956874925098776, 2.703967075075438, -7.319286220660454]\n",
      "[0.2446068286804672, 2.781298032930489, -1.2955254150520594, 2.7040168906015762, -7.319247942161737]\n",
      "[0.24483467738792422, 2.7814036055425433, -1.2953803413861615, 2.704061363815977, -7.319213438014776]\n",
      "[0.2450397186074049, 2.781498839433866, -1.2952505413484703, 2.7041010387763027, -7.319182324655995]\n",
      "[0.24522427110153072, 2.7815847853291786, -1.2951344617015366, 2.704136403858202, -7.319154257757767]\n",
      "[0.24539041643977733, 2.7816623864122407, -1.2950307078524643, 2.704167897517924, -7.3191289281713185]\n",
      "[0.24554002352418114, 2.781732489457655, -1.2949380274953828, 2.7041959134466453, -7.3191060582972485]\n",
      "[0.24567477053022643, 2.7817958547870303, -1.2948552959691981, 2.7042208051829, -7.319085398837108]\n",
      "[0.24579616454426365, 2.7818531651779637, -1.2947815031455228, 2.704242890241861, -7.319066725884821]\n",
      "[0.2459055591466055, 2.7819050338394993, -1.2947157416825754, 2.7042624538135347, -7.319049838321407]\n",
      "[0.24600417016119425, 2.7819520115547443, -1.2946571964992366, 2.7042797520760735, -7.319034555480548]\n",
      "[0.2460930897679047, 2.7819945930799572, -1.2946051353396395, 2.7042950151652243, -7.319020715056207]\n",
      "[0.24617329915169597, 2.7820332228794062, -1.2945589003129658, 2.704308449836395, -7.319008171226644]\n",
      "[0.24624567984356222, 2.7820683002664985, -1.2945179003057423, 2.7043202418518044, -7.31899679297201]\n",
      "[0.24631102389122725, 2.7821001840139084, -1.2944816041750986, 2.7043305581216313, -7.318986462565204]\n",
      "[0.2463700429824952, 2.782129196488573, -1.294449534641337, 2.704339548624936, -7.318977074217837]\n",
      "[0.24642337663086142, 2.7821556273613557, -1.2944212628069371, 2.7043473481333615, -7.318968532865143]\n",
      "[0.24647159952119266, 2.7821797369358063, -1.2943964032369055, 2.7043540777581336, -7.31896075307538]\n",
      "[0.24651522810281914, 2.7822017591356705, -1.294374609542295, 2.704359846338715, -7.31895365807081]\n",
      "[0.2465547265080821, 2.7822219041865828, -1.2943555704148808, 2.7043647516894946, -7.318947178848714]\n",
      "[0.24659051186611178, 2.7822403610236073, -1.2943390060664557, 2.704368881719189, -7.3189412533921345]\n",
      "[0.24662295907425022, 2.782257299452941, -1.2943246650310933, 2.7043723154360597, -7.318935825961079]\n",
      "[0.24665240508297606, 2.7822728720931256, -1.2943123212930854, 2.7043751238507077, -7.31893084645593]\n",
      "[0.2466791527443405, 2.7822872161184447, -1.2943017717071446, 2.704377370786948, -7.318926269845655]\n",
      "[0.2467034742687074, 2.7823004548248225, -1.2942928336809367, 2.704379113610198, -7.318922055654157]\n",
      "[0.2467256143299307, 2.78231269903642, -1.2942853430931123, 2.704380403881819, -7.318918167498839]\n",
      "[0.24674579285494028, 2.7823240483692357, -1.2942791524227764, 2.704381287946979, -7.318914572676035]\n",
      "[0.24676420752998596, 2.7823345923663347, -1.2942741290688227, 2.7043818074628296, -7.318911241788524]\n",
      "[0.24678103605246032, 2.782344411517807, -1.2942701538397745, 2.7043819998730845, -7.318908148410842]\n",
      "[0.24679643815424282, 2.782353578177222, -1.2942671195967692, 2.7043818988344555, -7.318905268788533]\n",
      "[0.24681055741983984, 2.7823621573851205, -1.2942649300340996, 2.7043815345998565, -7.318902581567889]\n",
      "[0.24682352292020757, 2.7823702076090107, -1.2942634985833241, 2.704380934362767, -7.318900067553088]\n",
      "[0.24683545068100338, 2.7823777814083637, -1.294262747428391, 2.704380122566705, -7.318897709487919]\n",
      "[0.24684644500209457, 2.782384926032234, -1.2942626066204976, 2.704379121183355, -7.318895491859627]\n",
      "[0.24685659964343196, 2.7823916839563454, -1.2942630132825665, 2.7043779499625376, -7.318893400722614]\n",
      "[0.24686599889085523, 2.7823980933657966, -1.2942639108942418, 2.704376626656866, -7.318891423539983]\n",
      "=== finally the answer ===\n",
      "[0.24686599889085523, 2.7823980933657966, -1.2942639108942418, 2.704376626656866, -7.318891423539983]\n"
     ]
    }
   ],
   "source": [
    "# update beta values\n",
    "alpha = 0.01\n",
    "new_beta = [0.26,  2.779, -1.2988, 2.703, -7.320]\n",
    "init_beta = [0,0,0,0,0]\n",
    "while max(abs(np.array(new_beta) - np.array(init_beta)))>1e-5:\n",
    "    for i in range(len(varList)):\n",
    "        init_beta[i] = new_beta[i]\n",
    "        new_beta[i] = init_beta[i] - alpha * (1/dat.shape[0]) *sum((dat['pred']-dat['target'])*dat[varList[i]])\n",
    "        dat['pred'] = dat.apply(lambda row: sigmoid(np.dot(row[varList], new_beta)), axis = 1)\n",
    "    print(new_beta)\n",
    "print(\"=== finally the answer ===\")    \n",
    "print(new_beta)    "
   ]
  },
  {
   "cell_type": "code",
   "execution_count": null,
   "metadata": {},
   "outputs": [],
   "source": []
  },
  {
   "cell_type": "code",
   "execution_count": 78,
   "metadata": {},
   "outputs": [
    {
     "data": {
      "text/plain": [
       "[0, 0, 0, 0, 0]"
      ]
     },
     "execution_count": 78,
     "metadata": {},
     "output_type": "execute_result"
    }
   ],
   "source": [
    "[0]*5"
   ]
  },
  {
   "cell_type": "code",
   "execution_count": null,
   "metadata": {},
   "outputs": [],
   "source": []
  },
  {
   "cell_type": "code",
   "execution_count": null,
   "metadata": {},
   "outputs": [],
   "source": []
  },
  {
   "cell_type": "code",
   "execution_count": null,
   "metadata": {},
   "outputs": [],
   "source": []
  }
 ],
 "metadata": {
  "kernelspec": {
   "display_name": "Python 3",
   "language": "python",
   "name": "python3"
  },
  "language_info": {
   "codemirror_mode": {
    "name": "ipython",
    "version": 3
   },
   "file_extension": ".py",
   "mimetype": "text/x-python",
   "name": "python",
   "nbconvert_exporter": "python",
   "pygments_lexer": "ipython3",
   "version": "3.6.5"
  }
 },
 "nbformat": 4,
 "nbformat_minor": 2
}
